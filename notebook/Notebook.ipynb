{
 "cells": [
  {
   "cell_type": "code",
   "execution_count": 16,
   "metadata": {},
   "outputs": [
    {
     "data": {
      "text/html": [
       "<img src='hi.png'></img"
      ],
      "text/plain": [
       "<IPython.core.display.HTML object>"
      ]
     },
     "metadata": {},
     "output_type": "display_data"
    }
   ],
   "source": [
    "from IPython.core.display import display, HTML\n",
    "display(HTML(\"<img src='hi.png'></img\"))"
   ]
  },
  {
   "cell_type": "code",
   "execution_count": 1,
   "metadata": {
    "scrolled": true
   },
   "outputs": [
    {
     "name": "stdout",
     "output_type": "stream",
     "text": [
      "(a+(b*c_1))+((c_1*c_2)+(c_2*a))\n",
      "\u001b[1m\u001b[92m(\u001b[0ma\u001b[0m+\u001b[1m\u001b[92m(\u001b[0mb\u001b[0m*\u001b[0mc\u001b[0m_\u001b[0m1\u001b[1m\u001b[91m)\u001b[1m\u001b[91m)\u001b[0m+\u001b[1m\u001b[92m(\u001b[1m\u001b[92m(\u001b[0mc\u001b[0m_\u001b[0m1\u001b[0m*\u001b[0mc\u001b[0m_\u001b[0m2\u001b[1m\u001b[91m)\u001b[0m+\u001b[1m\u001b[92m(\u001b[0mc\u001b[0m_\u001b[0m2\u001b[0m*\u001b[0ma\u001b[1m\u001b[91m)\u001b[1m\u001b[91m)\u001b[0m\n",
      "input #D0D\n",
      "input #293\n",
      "input #bdc\n",
      "input #D3F\n",
      "input #00F\n",
      "input #a1C\n",
      "input #78f\n"
     ]
    }
   ],
   "source": [
    "import tokener\n",
    "tokener.create_tokens(\"\")"
   ]
  },
  {
   "cell_type": "code",
   "execution_count": null,
   "metadata": {},
   "outputs": [],
   "source": []
  }
 ],
 "metadata": {
  "kernelspec": {
   "display_name": "Python 3",
   "language": "python",
   "name": "python3"
  },
  "language_info": {
   "codemirror_mode": {
    "name": "ipython",
    "version": 3
   },
   "file_extension": ".py",
   "mimetype": "text/x-python",
   "name": "python",
   "nbconvert_exporter": "python",
   "pygments_lexer": "ipython3",
   "version": "3.7.0"
  }
 },
 "nbformat": 4,
 "nbformat_minor": 2
}
