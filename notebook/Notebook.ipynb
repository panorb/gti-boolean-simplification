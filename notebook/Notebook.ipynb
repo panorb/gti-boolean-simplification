{
 "cells": [
  {
   "cell_type": "code",
   "execution_count": 49,
   "metadata": {
    "scrolled": true
   },
   "outputs": [
    {
     "name": "stdout",
     "output_type": "stream",
     "text": [
      "|   DEZ |   a |   b |   c_1 |   c_2 |   RES |\n",
      "|-------+-----+-----+-------+-------+-------|\n",
      "|     0 |   0 |   0 |     0 |     0 |     0 |\n",
      "|     1 |   0 |   0 |     0 |     1 |     0 |\n",
      "|     2 |   0 |   0 |     1 |     0 |     0 |\n",
      "|     3 |   0 |   0 |     1 |     1 |     0 |\n",
      "|     4 |   0 |   1 |     0 |     0 |     0 |\n",
      "|     5 |   0 |   1 |     0 |     1 |     0 |\n",
      "|     6 |   0 |   1 |     1 |     0 |     0 |\n",
      "|     7 |   0 |   1 |     1 |     1 |     0 |\n",
      "|     8 |   1 |   0 |     0 |     0 |     0 |\n",
      "|     9 |   1 |   0 |     0 |     1 |     0 |\n",
      "|    10 |   1 |   0 |     1 |     0 |     0 |\n",
      "|    11 |   1 |   0 |     1 |     1 |     0 |\n",
      "|    12 |   1 |   1 |     0 |     0 |     0 |\n",
      "|    13 |   1 |   1 |     0 |     1 |     0 |\n",
      "|    14 |   1 |   1 |     1 |     0 |     0 |\n",
      "|    15 |   1 |   1 |     1 |     1 |     0 |\n"
     ]
    }
   ],
   "source": [
    "import importlib\n",
    "import simplify\n",
    "importlib.reload(simplify)\n",
    "simplify.prez_solve(\"(a+(b*c_1))+((c_1*c_2)+(c_2*a))\")"
   ]
  }
 ],
 "metadata": {
  "kernelspec": {
   "display_name": "Python 3",
   "language": "python",
   "name": "python3"
  },
  "language_info": {
   "codemirror_mode": {
    "name": "ipython",
    "version": 3
   },
   "file_extension": ".py",
   "mimetype": "text/x-python",
   "name": "python",
   "nbconvert_exporter": "python",
   "pygments_lexer": "ipython3",
   "version": "3.7.0"
  }
 },
 "nbformat": 4,
 "nbformat_minor": 2
}
