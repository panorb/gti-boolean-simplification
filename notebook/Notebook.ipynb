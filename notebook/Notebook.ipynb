{
 "cells": [
  {
   "cell_type": "code",
   "execution_count": 2,
   "metadata": {
    "scrolled": true
   },
   "outputs": [
    {
     "name": "stdout",
     "output_type": "stream",
     "text": [
      "i | a | \n",
      "i | b | \n",
      "i | c_1 | \n",
      "i | c_2 | \n",
      "[['c_2', False], ['c_1', False], ['b', False], ['a', False]]\n",
      "[['c_2', False], ['c_1', False], ['b', False], ['a', True]]\n",
      "[['c_2', False], ['c_1', False], ['b', True], ['a', False]]\n",
      "[['c_2', False], ['c_1', False], ['b', True], ['a', True]]\n",
      "[['c_2', False], ['c_1', True], ['b', False], ['a', False]]\n",
      "[['c_2', False], ['c_1', True], ['b', False], ['a', True]]\n",
      "[['c_2', False], ['c_1', True], ['b', True], ['a', False]]\n",
      "[['c_2', False], ['c_1', True], ['b', True], ['a', True]]\n",
      "[['c_2', True], ['c_1', False], ['b', False], ['a', False]]\n",
      "[['c_2', True], ['c_1', False], ['b', False], ['a', True]]\n",
      "[['c_2', True], ['c_1', False], ['b', True], ['a', False]]\n",
      "[['c_2', True], ['c_1', False], ['b', True], ['a', True]]\n",
      "[['c_2', True], ['c_1', True], ['b', False], ['a', False]]\n",
      "[['c_2', True], ['c_1', True], ['b', False], ['a', True]]\n",
      "[['c_2', True], ['c_1', True], ['b', True], ['a', False]]\n",
      "[['c_2', True], ['c_1', True], ['b', True], ['a', True]]\n"
     ]
    }
   ],
   "source": [
    "import importlib\n",
    "import solver\n",
    "importlib.reload(solver)\n",
    "solver.generate_input_combinations(\"(a+(b*c_1))+((c_1*c_2)+(c_2*a))\")"
   ]
  },
  {
   "cell_type": "code",
   "execution_count": null,
   "metadata": {},
   "outputs": [],
   "source": []
  }
 ],
 "metadata": {
  "kernelspec": {
   "display_name": "Python 3",
   "language": "python",
   "name": "python3"
  },
  "language_info": {
   "codemirror_mode": {
    "name": "ipython",
    "version": 3
   },
   "file_extension": ".py",
   "mimetype": "text/x-python",
   "name": "python",
   "nbconvert_exporter": "python",
   "pygments_lexer": "ipython3",
   "version": "3.6.5"
  }
 },
 "nbformat": 4,
 "nbformat_minor": 2
}
